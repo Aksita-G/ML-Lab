{
 "cells": [
  {
   "cell_type": "markdown",
   "id": "ba9bc9c2",
   "metadata": {},
   "source": [
    "CB.EN.U4CSE20304\n",
    "19CSE304- Assignment 1"
   ]
  },
  {
   "cell_type": "markdown",
   "id": "3c76ae57",
   "metadata": {},
   "source": [
    "1.\tGenerate a tuple from the set [\"aman\", \"222\", 777, 400.4]\n",
    "2.\tCreate a dictionary of your basic data : (a) Roll No (b) Last Name (c) First Name (d) Date of birth. Print out the values and keys.\n",
    "3.\tUse rand function to generate a 2-dimensional random array with seed.\n",
    "4.\tGenerate a single random number in [0.0, 1.0]. Find the absolute value of (-1234)\n",
    "5.\tReturn a random integer N such that 20 <= N <= 90. \n",
    "6.\tGiven a population or set[11, 12, 13,14, 15]\n",
    "o\tReturn a 3 length list of unique elements without replacement.\n",
    "o\tShuffle the above set\n",
    "o\tPrint a random number from the set\n",
    "7.\tWrite the text \"The King is Dead, Long Live The King\" on to a file in your hard drive; read and print the text.\n",
    "8.\tCreate an illustrative function to demonstrate use of: if, elif and else (b) for, while, break and continue. \n",
    "9.\tGiven a string \"The King is Dead, Long Live The King\" \n",
    "o\tPrint the complete string\n",
    "o\tPrint first character of the string\n",
    "o\tPrint characters starting from 3rd to 5th\n",
    "o\tPrint string starting from 3rd character\n",
    "o\tSplit the words\n"
   ]
  },
  {
   "cell_type": "code",
   "execution_count": 4,
   "id": "33bb9d6e",
   "metadata": {},
   "outputs": [],
   "source": [
    "import pandas as pd\n",
    "import numpy as np"
   ]
  },
  {
   "cell_type": "code",
   "execution_count": 3,
   "id": "67c95242",
   "metadata": {},
   "outputs": [
    {
     "name": "stdout",
     "output_type": "stream",
     "text": [
      "('aman', '222', 777, 400.4)\n"
     ]
    }
   ],
   "source": [
    "set=['aman', \"222\", 777, 400.4]\n",
    "print(tuple(set))"
   ]
  },
  {
   "cell_type": "code",
   "execution_count": 4,
   "id": "8cca852c",
   "metadata": {},
   "outputs": [
    {
     "name": "stdout",
     "output_type": "stream",
     "text": [
      "{'Roll No': 20304, 'First Name': 'Aksita', 'Last Name': 'G', 'DOB': 2407}\n"
     ]
    }
   ],
   "source": [
    "dict={'Roll No': 20304 ,\n",
    "      'First Name': 'Aksita',\n",
    "      'Last Name': 'G',\n",
    "      'DOB': 2407    \n",
    "}\n",
    "print(dict)"
   ]
  },
  {
   "cell_type": "code",
   "execution_count": 14,
   "id": "70b835a1",
   "metadata": {},
   "outputs": [
    {
     "data": {
      "text/plain": [
       "array([[5, 0],\n",
       "       [3, 3]])"
      ]
     },
     "execution_count": 14,
     "metadata": {},
     "output_type": "execute_result"
    }
   ],
   "source": [
    "np.random.seed(0)\n",
    "np.random.randint(low=0, high=10, size=(2,2))"
   ]
  },
  {
   "cell_type": "code",
   "execution_count": 18,
   "id": "a8b11412",
   "metadata": {},
   "outputs": [
    {
     "name": "stdout",
     "output_type": "stream",
     "text": [
      "0.7734929113934618\n",
      "1234\n"
     ]
    }
   ],
   "source": [
    "import random\n",
    "print(random.uniform(0.0, 1.0))\n",
    "print(abs(-1234))"
   ]
  },
  {
   "cell_type": "code",
   "execution_count": 21,
   "id": "9e9a1733",
   "metadata": {},
   "outputs": [
    {
     "name": "stdout",
     "output_type": "stream",
     "text": [
      "39\n"
     ]
    }
   ],
   "source": [
    "print(random.randint(20, 90))"
   ]
  },
  {
   "cell_type": "code",
   "execution_count": 28,
   "id": "a012f393",
   "metadata": {},
   "outputs": [
    {
     "name": "stdout",
     "output_type": "stream",
     "text": [
      "[11, 12, 13]\n",
      "[14, 12, 12, 13, 11]\n",
      "13\n"
     ]
    }
   ],
   "source": [
    "list1=[11,12,12,13,14]\n",
    "unique_list=[]\n",
    "for x in list1:\n",
    "    if x  not in unique_list:\n",
    "        unique_list.append(x)\n",
    "three=unique_list[0:3]\n",
    "print(three)\n",
    "random.shuffle(list1)\n",
    "print(list1)\n",
    "print(random.choice(list1))"
   ]
  },
  {
   "cell_type": "code",
   "execution_count": 29,
   "id": "9b44f18b",
   "metadata": {},
   "outputs": [
    {
     "data": {
      "text/plain": [
       "'C:\\\\Users\\\\aksit'"
      ]
     },
     "execution_count": 29,
     "metadata": {},
     "output_type": "execute_result"
    }
   ],
   "source": [
    "import os\n",
    "os.getcwd()"
   ]
  },
  {
   "cell_type": "code",
   "execution_count": 34,
   "id": "745437ca",
   "metadata": {},
   "outputs": [
    {
     "name": "stdout",
     "output_type": "stream",
     "text": [
      "The King is Dead, Long Live The King\n"
     ]
    }
   ],
   "source": [
    "os.chdir(r\"C:\\\\Users\\\\aksit\\\\Downloads\")\n",
    "#os.mkdir('king')\n",
    "#os.chdir('king')\n",
    "f=open('king.txt','w+')\n",
    "f.write('The King is Dead, Long Live The King')\n",
    "f.seek(0)\n",
    "print(f.read())\n",
    "f.close()"
   ]
  },
  {
   "cell_type": "code",
   "execution_count": 36,
   "id": "67f0e383",
   "metadata": {},
   "outputs": [],
   "source": [
    "os.rename('king.txt', 'note.txt')\n",
    "os.remove('note.txt')"
   ]
  },
  {
   "cell_type": "code",
   "execution_count": 3,
   "id": "60f5d116",
   "metadata": {},
   "outputs": [
    {
     "name": "stdout",
     "output_type": "stream",
     "text": [
      "D\n",
      "t\n",
      "S\n",
      "c\n",
      "i\n"
     ]
    }
   ],
   "source": [
    "def create():\n",
    "        for letter in \"DataScience\":\n",
    "            if letter == \"e\":\n",
    "                break\n",
    "            if letter == \"a\":\n",
    "                continue\n",
    "            print(letter)\n",
    "create()"
   ]
  },
  {
   "cell_type": "code",
   "execution_count": 7,
   "id": "234511b3",
   "metadata": {},
   "outputs": [
    {
     "name": "stdout",
     "output_type": "stream",
     "text": [
      "The King is Dead , Long Live The King\n",
      "T\n",
      "e K\n",
      "e King is Dead , Long Live The King\n",
      "['The', 'King', 'is', 'Dead', ',', 'Long', 'Live', 'The', 'King']\n"
     ]
    }
   ],
   "source": [
    "s=\"The King is Dead , Long Live The King\"\n",
    "print(s)\n",
    "print(s[0])\n",
    "print(s[2:5])\n",
    "print(s[2:])\n",
    "print(s.split(\" \"), sep=\"\\n\")"
   ]
  },
  {
   "cell_type": "markdown",
   "id": "465f7387",
   "metadata": {},
   "source": [
    "10.\tAn array can be created from a list:  Create an array from a list comprising of numbers 1,4,5,8 (treat them as floats).Slice the above array to display first and second elements\n",
    "11.\tArrays can be multidimensional. Create a two-dimensional array of (1,2,3) and (4,5,6).\n",
    "12.\tArray slicing works with multiple dimensions in the same way as usual, applying each slice specification as a filter to a specified dimension. Consider two-dimensional array of (1,2,3) and (4,5,6).\n",
    "o\tSlice and display the 2nd row.\n",
    "o\tWrite code to display as array([2., 5.]) \n",
    "o\tFind the length of the array.\n",
    "13.\tArrays can be reshaped using tuples that specify new dimensions. Turn a ten-element one-dimensional array into a two-dimensional one whose first axis has five elements and whose second axis has two elements. Obtain the transpose of the array\n",
    "14.\tCreate an array from a list of 1,2 and 3.\n",
    "15.\tFill an array [1,2,3] with a single value [9,9,9]. \n",
    "16.\tSum the elements of array [2,4,5].\n",
    "17.\tGive the products of array [77,74,75]\n",
    "18.\tGiven an array [2,1,9,1,2,22,1,1,4,55,6,2,56]. Find mean, variance, max, min, argmin, median, argmax and standard deviation.\n",
    "19.\tExtract unique elements from an array: [1, 1, 4, 5, 5, 5, 7] and sort it.\n",
    "20.\tFind dot product of two arrays [1, 2, 3]and [0, 1, 1]. \n",
    "21.\tFind the eigenvalues and eigenvectors of matrix A.\n"
   ]
  },
  {
   "cell_type": "code",
   "execution_count": 11,
   "id": "ec44e054",
   "metadata": {},
   "outputs": [
    {
     "name": "stdout",
     "output_type": "stream",
     "text": [
      "[1 4 5 8]\n",
      "<class 'numpy.ndarray'>\n",
      "[1 4]\n"
     ]
    }
   ],
   "source": [
    "#10\n",
    "import numpy as np\n",
    "mylist = [1,4,5,8]\n",
    "arr = np.array(mylist)\n",
    "print (arr)\n",
    "print (type(arr))\n",
    "print(arr[0:2])"
   ]
  },
  {
   "cell_type": "code",
   "execution_count": 14,
   "id": "1ea100fd",
   "metadata": {},
   "outputs": [
    {
     "data": {
      "text/plain": [
       "array([[1, 2, 3],\n",
       "       [4, 5, 6]])"
      ]
     },
     "execution_count": 14,
     "metadata": {},
     "output_type": "execute_result"
    }
   ],
   "source": [
    "#11\n",
    "array = np.arange(1,7).reshape(2,3)\n",
    "array"
   ]
  },
  {
   "cell_type": "code",
   "execution_count": 21,
   "id": "695e796d",
   "metadata": {},
   "outputs": [
    {
     "name": "stdout",
     "output_type": "stream",
     "text": [
      "[[4 5 6]]\n",
      "[array([1, 2, 3]), array([4, 5, 6])]\n",
      "2\n"
     ]
    }
   ],
   "source": [
    "#12\n",
    "print(array[1:2])\n",
    "#arr1=array.tolist()\n",
    "print(list(array))\n",
    "print(len(array))"
   ]
  },
  {
   "cell_type": "code",
   "execution_count": 71,
   "id": "1d363baf",
   "metadata": {},
   "outputs": [
    {
     "name": "stdout",
     "output_type": "stream",
     "text": [
      "[0 1 2 3 4 5 6 7 8 9]\n",
      "[[0 1 2 3 4]\n",
      " [5 6 7 8 9]]\n",
      "[[0 5]\n",
      " [1 6]\n",
      " [2 7]\n",
      " [3 8]\n",
      " [4 9]]\n"
     ]
    }
   ],
   "source": [
    "#13\n",
    "a = np.arange(0, 10)\n",
    "print(a)\n",
    "ar=a.reshape(2,5)\n",
    "print(ar)\n",
    "print(np.transpose(ar))"
   ]
  },
  {
   "cell_type": "code",
   "execution_count": 70,
   "id": "0e297803",
   "metadata": {},
   "outputs": [
    {
     "data": {
      "text/plain": [
       "array([[12, 78, 43, 21],\n",
       "       [56, 39, 74, 16],\n",
       "       [ 2, 85, 16, 90]])"
      ]
     },
     "execution_count": 70,
     "metadata": {},
     "output_type": "execute_result"
    }
   ],
   "source": [
    "#14\n",
    "x=[12, 78, 43 ,21]\n",
    "y=[56, 39, 74, 16]\n",
    "z=[2, 85, 16, 90]\n",
    "new=x+y+z\n",
    "a=np.array(new)\n",
    "a.shape=(3,4)\n",
    "a"
   ]
  },
  {
   "cell_type": "code",
   "execution_count": 51,
   "id": "9d7933d7",
   "metadata": {},
   "outputs": [
    {
     "name": "stdout",
     "output_type": "stream",
     "text": [
      "[1 2 3]\n"
     ]
    },
    {
     "data": {
      "text/plain": [
       "array([9, 9, 9])"
      ]
     },
     "execution_count": 51,
     "metadata": {},
     "output_type": "execute_result"
    }
   ],
   "source": [
    "#15\n",
    "arr=np.array([1,2,3])\n",
    "print(arr)\n",
    "arr.fill(9)\n",
    "arr"
   ]
  },
  {
   "cell_type": "code",
   "execution_count": 42,
   "id": "8fe51645",
   "metadata": {},
   "outputs": [
    {
     "name": "stdout",
     "output_type": "stream",
     "text": [
      "11\n"
     ]
    }
   ],
   "source": [
    "#16\n",
    "arr=[2,4,5]\n",
    "print(sum(arr))"
   ]
  },
  {
   "cell_type": "code",
   "execution_count": 40,
   "id": "de06bef7",
   "metadata": {},
   "outputs": [
    {
     "name": "stdout",
     "output_type": "stream",
     "text": [
      "427350\n"
     ]
    }
   ],
   "source": [
    "#17\n",
    "arr=[77,74,75]\n",
    "print(np.prod(arr))"
   ]
  },
  {
   "cell_type": "code",
   "execution_count": 32,
   "id": "6b3477af",
   "metadata": {},
   "outputs": [
    {
     "name": "stdout",
     "output_type": "stream",
     "text": [
      "Mean: 12.461538461538462\n",
      "Variance: 367.32544378698225\n",
      "Standard Deviation: 19.165736192147232\n",
      "Min: 1\n",
      "Max: 56\n",
      "Argmax: 12\n",
      "Argmin: 1\n",
      "Median: 2.0\n"
     ]
    }
   ],
   "source": [
    " #18\n",
    "list=[2,1,9,1,2,22,1,1,4,55,6,2,56]\n",
    "print(\"Mean:\",np.average(list))\n",
    "print(\"Variance:\",np.var(list))\n",
    "print(\"Standard Deviation:\",np.std(list))\n",
    "print(\"Min:\",np.min(list))\n",
    "print(\"Max:\",np.max(list))\n",
    "print(\"Argmax:\",np.argmax(list))\n",
    "print(\"Argmin:\",np.argmin(list))\n",
    "print(\"Median:\",np.median(list))"
   ]
  },
  {
   "cell_type": "code",
   "execution_count": 23,
   "id": "0c627c2f",
   "metadata": {},
   "outputs": [
    {
     "data": {
      "text/plain": [
       "[1, 4, 5, 7]"
      ]
     },
     "execution_count": 23,
     "metadata": {},
     "output_type": "execute_result"
    }
   ],
   "source": [
    "#19\n",
    "l1=[1, 1, 4, 5, 5, 5, 7] \n",
    "l2=[]\n",
    "for x in l1:\n",
    "    if(x not in l2):\n",
    "        l2.append(x)\n",
    "l2.sort()\n",
    "l2"
   ]
  },
  {
   "cell_type": "code",
   "execution_count": 24,
   "id": "8652410e",
   "metadata": {},
   "outputs": [
    {
     "data": {
      "text/plain": [
       "5"
      ]
     },
     "execution_count": 24,
     "metadata": {},
     "output_type": "execute_result"
    }
   ],
   "source": [
    "#20\n",
    "import numpy.matlib \n",
    "a = np.array([1,2,3]) \n",
    "b = np.array([0,1,1]) \n",
    "np.dot(a,b)\n"
   ]
  },
  {
   "cell_type": "code",
   "execution_count": 26,
   "id": "27ea2631",
   "metadata": {},
   "outputs": [
    {
     "name": "stdout",
     "output_type": "stream",
     "text": [
      "Eigen values: [-1. -2.]\n",
      "Eigen vectors: [[0.9701425  0.9486833 ]\n",
      " [0.24253563 0.31622777]]\n"
     ]
    }
   ],
   "source": [
    "#21\n",
    "m = np.array([[2, -12],\n",
    "              [1, -5]])\n",
    "w, v = np.linalg.eig(m)\n",
    "print(\"Eigen values:\", w)\n",
    "print(\"Eigen vectors:\", v)"
   ]
  },
  {
   "cell_type": "code",
   "execution_count": null,
   "id": "2d24d028",
   "metadata": {},
   "outputs": [],
   "source": []
  }
 ],
 "metadata": {
  "kernelspec": {
   "display_name": "Python 3 (ipykernel)",
   "language": "python",
   "name": "python3"
  },
  "language_info": {
   "codemirror_mode": {
    "name": "ipython",
    "version": 3
   },
   "file_extension": ".py",
   "mimetype": "text/x-python",
   "name": "python",
   "nbconvert_exporter": "python",
   "pygments_lexer": "ipython3",
   "version": "3.9.12"
  }
 },
 "nbformat": 4,
 "nbformat_minor": 5
}
